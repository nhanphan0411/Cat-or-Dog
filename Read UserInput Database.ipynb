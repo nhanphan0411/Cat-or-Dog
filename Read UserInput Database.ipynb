{
 "cells": [
  {
   "cell_type": "code",
   "execution_count": 24,
   "metadata": {},
   "outputs": [],
   "source": [
    "import psycopg2\n",
    "import os\n",
    "import cv2\n",
    "import base64\n",
    "import numpy as np\n",
    "import tensorflow as tf\n",
    "\n",
    "conn = psycopg2.connect(user='nhanpham', database='postgres')\n",
    "conn.autocommit = True\n",
    "cursor = conn.cursor()"
   ]
  },
  {
   "cell_type": "code",
   "execution_count": 25,
   "metadata": {},
   "outputs": [
    {
     "data": {
      "text/plain": [
       "[(1, <memory at 0x64232a940>, 1),\n",
       " (2, <memory at 0x64232a870>, 1),\n",
       " (3, <memory at 0x64227c2c0>, 1),\n",
       " (4, <memory at 0x64227c530>, 1),\n",
       " (5, <memory at 0x64227c460>, 1)]"
      ]
     },
     "execution_count": 25,
     "metadata": {},
     "output_type": "execute_result"
    }
   ],
   "source": [
    "#Display database\n",
    "query = \"\"\"\n",
    "    SELECT * FROM catvsdog\n",
    "\"\"\"\n",
    "\n",
    "cursor.execute(query)\n",
    "cursor.fetchall()"
   ]
  },
  {
   "cell_type": "code",
   "execution_count": 26,
   "metadata": {},
   "outputs": [
    {
     "data": {
      "text/plain": [
       "array([[[ 78, 116, 120],\n",
       "        [ 79, 117, 121],\n",
       "        [ 80, 118, 122],\n",
       "        ...,\n",
       "        [ 59,  95, 103],\n",
       "        [ 59,  95, 103],\n",
       "        [ 59,  95, 103]],\n",
       "\n",
       "       [[ 79, 117, 121],\n",
       "        [ 79, 117, 121],\n",
       "        [ 80, 118, 122],\n",
       "        ...,\n",
       "        [ 59,  95, 103],\n",
       "        [ 59,  95, 103],\n",
       "        [ 59,  95, 103]],\n",
       "\n",
       "       [[ 79, 117, 121],\n",
       "        [ 80, 118, 122],\n",
       "        [ 81, 119, 123],\n",
       "        ...,\n",
       "        [ 59,  95, 103],\n",
       "        [ 59,  95, 103],\n",
       "        [ 59,  95, 103]],\n",
       "\n",
       "       ...,\n",
       "\n",
       "       [[139, 130, 150],\n",
       "        [137, 133, 152],\n",
       "        [139, 142, 157],\n",
       "        ...,\n",
       "        [136, 161, 165],\n",
       "        [133, 160, 164],\n",
       "        [134, 159, 163]],\n",
       "\n",
       "       [[139, 130, 151],\n",
       "        [138, 133, 154],\n",
       "        [139, 141, 159],\n",
       "        ...,\n",
       "        [129, 157, 158],\n",
       "        [128, 156, 157],\n",
       "        [127, 155, 156]],\n",
       "\n",
       "       [[140, 131, 152],\n",
       "        [138, 133, 154],\n",
       "        [140, 142, 160],\n",
       "        ...,\n",
       "        [127, 155, 156],\n",
       "        [125, 153, 154],\n",
       "        [125, 153, 154]]], dtype=uint8)"
      ]
     },
     "execution_count": 26,
     "metadata": {},
     "output_type": "execute_result"
    }
   ],
   "source": [
    "def decode(img_encoded):\n",
    "    # Passing img column from SQL\n",
    "    img_decoded = base64.b64decode(img_encoded)\n",
    "    img_decoded = np.frombuffer(img_decoded, dtype=np.uint8)\n",
    "    #Img to array \n",
    "    img_decoded = cv2.imdecode(img_decoded, 1) \n",
    "    return img_decoded\n",
    "\n",
    "def save_data(file_decode):\n",
    "    cv2.imwrite('./flask_app/app/static/images/2.jpg', file_decode)\n",
    "    return\n",
    "\n",
    "def read_data(file_order):\n",
    "    #Getting image column from database \n",
    "    query = \"\"\"\n",
    "        SELECT img FROM catvsdog\n",
    "    \"\"\"\n",
    "    cursor.execute(query)\n",
    "    data = cursor.fetchall()\n",
    "    file_decode = decode(data[file_order][0])\n",
    "    save_data(file_decode)\n",
    "    return file_decode\n",
    "\n",
    "read_data(4)"
   ]
  },
  {
   "cell_type": "code",
   "execution_count": null,
   "metadata": {},
   "outputs": [],
   "source": []
  }
 ],
 "metadata": {
  "kernelspec": {
   "display_name": "Python 3",
   "language": "python",
   "name": "python3"
  },
  "language_info": {
   "codemirror_mode": {
    "name": "ipython",
    "version": 3
   },
   "file_extension": ".py",
   "mimetype": "text/x-python",
   "name": "python",
   "nbconvert_exporter": "python",
   "pygments_lexer": "ipython3",
   "version": "3.7.5"
  }
 },
 "nbformat": 4,
 "nbformat_minor": 2
}
