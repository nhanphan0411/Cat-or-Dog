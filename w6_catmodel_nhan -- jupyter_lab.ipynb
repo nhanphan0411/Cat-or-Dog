{
 "cells": [
  {
   "cell_type": "markdown",
   "metadata": {
    "colab_type": "text",
    "id": "MimpqScvhXjM"
   },
   "source": [
    "# **CAT 🐱 & DOG 🐶 RECOGNIZATION MODEL USING DEEP NEURAL NETWORKS** \n",
    "\n",
    "![](https://myvegandreams.com/wp-content/uploads/2017/05/Cats-Be-Vegan-1024x682.jpg)\n",
    "\n",
    "Image recogization has always been an excited field of Deep Learning. In this project, we will build a Deep Neural Networks model to distinguish cat and dog images. The dataset is acquired from the Kaggle competition 6 years ago."
   ]
  },
  {
   "cell_type": "markdown",
   "metadata": {},
   "source": [
    "### A quick introduction about the dataset\n",
    "\n",
    "#### The Asirra data set\n",
    "Web services are often protected with a challenge that's supposed to be easy for people to solve, but difficult for computers. Such a challenge is often called a CAPTCHA (Completely Automated Public Turing test to tell Computers and Humans Apart) or HIP (Human Interactive Proof). HIPs are used for many purposes, such as to reduce email and blog spam and prevent brute-force attacks on web site passwords.\n",
    "\n",
    "Asirra (Animal Species Image Recognition for Restricting Access) is a HIP that works by asking users to identify photographs of cats and dogs. This task is difficult for computers, but studies have shown that people can accomplish it quickly and accurately. Many even think it's fun! Here is an example of the Asirra interface:\n",
    "\n",
    "Asirra is unique because of its partnership with Petfinder.com, the world's largest site devoted to finding homes for homeless pets. They've provided Microsoft Research with over three million images of cats and dogs, manually classified by people at thousands of animal shelters across the United States. Kaggle is fortunate to offer a subset of this data for fun and research. \n",
    "\n",
    "#### Image recognition attacks\n",
    "While random guessing is the easiest form of attack, various forms of image recognition can allow an attacker to make guesses that are better than random. There is enormous diversity in the photo database (a wide variety of backgrounds, angles, poses, lighting, etc.), making accurate automatic classification difficult. In an informal poll conducted many years ago, computer vision experts posited that a classifier with better than 60% accuracy would be difficult without a major advance in the state of the art. For reference, a 60% classifier improves the guessing probability of a 12-image HIP from 1/4096 to 1/459.\n",
    "\n",
    "#### State of the art\n",
    "The current literature suggests machine classifiers can score above 80% accuracy on this task. Therfore, Asirra is no longer considered safe from attack.  We have created this contest to benchmark the latest computer vision and deep learning approaches to this problem. Can you crack the CAPTCHA? Can you improve the state of the art? Can you create lasting peace between cats and dogs?\n",
    "\n",
    "Okay, we'll settle for the former. "
   ]
  },
  {
   "cell_type": "markdown",
   "metadata": {
    "colab_type": "text",
    "id": "0jir6I5Nhltf"
   },
   "source": [
    "## TABLE OF CONTENT\n",
    "\n",
    "**1. Import Libraries and Data**\n",
    "- Import Libraries\n",
    "- Import Dataset\n",
    "- Explore Dataset\n",
    "\n",
    "**2. Preprocess Data**\n",
    "- Dataset into Dataframe\n",
    "- Split into Train and Validation Set\n",
    "- Data Augmentation \n",
    "\n",
    "**3. Model: CNN**\n",
    "\n",
    "**4. Alternative Model: MobileNetv2**\n",
    "\n",
    "**5. Proceed on Test Set**\n",
    "\n",
    "**6. Summary**"
   ]
  },
  {
   "cell_type": "markdown",
   "metadata": {
    "colab_type": "text",
    "id": "P0st4nsZjlMV"
   },
   "source": [
    "## 1. Import Libraries and Data"
   ]
  },
  {
   "cell_type": "markdown",
   "metadata": {
    "colab_type": "text",
    "id": "Ooc7Z_y4mFwt"
   },
   "source": [
    "#### **Importing Libraries**"
   ]
  },
  {
   "cell_type": "code",
   "execution_count": 2,
   "metadata": {
    "colab": {},
    "colab_type": "code",
    "id": "f8ESh7cljiNW"
   },
   "outputs": [
    {
     "name": "stderr",
     "output_type": "stream",
     "text": [
      "Using TensorFlow backend.\n"
     ]
    }
   ],
   "source": [
    "#import libraries\n",
    "import os\n",
    "from os import listdir\n",
    "import numpy as np \n",
    "import pandas as pd\n",
    "\n",
    "#DNN model builder\n",
    "import tensorflow as tf\n",
    "import keras\n",
    "from keras import applications\n",
    "from keras.preprocessing.image import ImageDataGenerator\n",
    "\n",
    "#Visualizer\n",
    "from matplotlib import pyplot as plt\n",
    "from tqdm import tqdm"
   ]
  },
  {
   "cell_type": "code",
   "execution_count": 3,
   "metadata": {
    "colab": {
     "base_uri": "https://localhost:8080/",
     "height": 34
    },
    "colab_type": "code",
    "id": "Idke5wr1k93w",
    "outputId": "fff30f25-5860-4580-cff5-253f59b8f910"
   },
   "outputs": [
    {
     "name": "stdout",
     "output_type": "stream",
     "text": [
      "2.0.0\n"
     ]
    }
   ],
   "source": [
    "print(tf.__version__)"
   ]
  },
  {
   "cell_type": "code",
   "execution_count": 4,
   "metadata": {
    "colab": {
     "base_uri": "https://localhost:8080/",
     "height": 1000
    },
    "colab_type": "code",
    "id": "SSjP5a8JlFgt",
    "outputId": "ba78530c-a776-4d99-d9c0-704299e64f55"
   },
   "outputs": [],
   "source": [
    "# !python3 -m pip install tensorflow==2.0.0 --user"
   ]
  },
  {
   "cell_type": "code",
   "execution_count": 3,
   "metadata": {
    "colab": {
     "base_uri": "https://localhost:8080/",
     "height": 52
    },
    "colab_type": "code",
    "id": "E4W9eGpTlfh9",
    "outputId": "79ed106a-bd55-4093-f058-4f7f718c7bad"
   },
   "outputs": [
    {
     "name": "stdout",
     "output_type": "stream",
     "text": [
      "2.0.0\n"
     ]
    }
   ],
   "source": [
    "from __future__ import absolute_import, division, print_function, unicode_literals\n",
    "\n",
    "import tensorflow as tf\n",
    "print(tf.__version__)"
   ]
  },
  {
   "cell_type": "code",
   "execution_count": 4,
   "metadata": {},
   "outputs": [
    {
     "data": {
      "text/plain": [
       "True"
      ]
     },
     "execution_count": 4,
     "metadata": {},
     "output_type": "execute_result"
    }
   ],
   "source": [
    "tf.test.is_gpu_available()"
   ]
  },
  {
   "cell_type": "markdown",
   "metadata": {
    "colab_type": "text",
    "id": "x2JVSYE8mM64"
   },
   "source": [
    "#### **Importing Dataset**"
   ]
  },
  {
   "cell_type": "code",
   "execution_count": 5,
   "metadata": {},
   "outputs": [],
   "source": [
    "# import zipfile\n",
    "# with zipfile.ZipFile(\"dogs-vs-cats.zip\",\"r\") as zip_ref:\n",
    "#     zip_ref.extractall(\"dogs-vs-cats\")"
   ]
  },
  {
   "cell_type": "code",
   "execution_count": 6,
   "metadata": {},
   "outputs": [],
   "source": [
    "# with zipfile.ZipFile(\"dogs-vs-cats/train.zip\",\"r\") as zip_ref:\n",
    "#     zip_ref.extractall(\"train\")\n",
    "# with zipfile.ZipFile(\"dogs-vs-cats/test1.zip\",\"r\") as zip_ref:\n",
    "#     zip_ref.extractall(\"test1\")"
   ]
  },
  {
   "cell_type": "code",
   "execution_count": 5,
   "metadata": {},
   "outputs": [
    {
     "name": "stdout",
     "output_type": "stream",
     "text": [
      "Number of train images:  25000\n",
      "Number of test images:  12500\n"
     ]
    }
   ],
   "source": [
    "ROOT = '/home/jupyter/'\n",
    "\n",
    "TRAIN_DIR = ROOT + 'train/train/'\n",
    "TEST_DIR = ROOT + 'test1/test1/'\n",
    "\n",
    "train_files = list(os.listdir(TRAIN_DIR))\n",
    "test_files = list(os.listdir(TEST_DIR))\n",
    "\n",
    "TRAIN_SIZE = len(train_files)\n",
    "TEST_SIZE = len(test_files)\n",
    "\n",
    "print('Number of train images: ', TRAIN_SIZE)\n",
    "print('Number of test images: ', TEST_SIZE)\n",
    "                 \n"
   ]
  },
  {
   "cell_type": "markdown",
   "metadata": {
    "colab_type": "text",
    "id": "nBJvwIKmAa6w"
   },
   "source": [
    "Take a quick look at out data"
   ]
  },
  {
   "cell_type": "code",
   "execution_count": 6,
   "metadata": {
    "colab": {
     "base_uri": "https://localhost:8080/",
     "height": 1000
    },
    "colab_type": "code",
    "id": "DVDrxUr0AdTs",
    "outputId": "73459af4-61f4-4f87-91b6-95ccb1f144ef"
   },
   "outputs": [
    {
     "data": {
      "image/jpeg": "[encoded data removed]",
      "text/plain": [
       "<IPython.core.display.Image object>"
      ]
     },
     "metadata": {},
     "output_type": "display_data"
    },
    {
     "name": "stdout",
     "output_type": "stream",
     "text": [
      "\n"
     ]
    },
    {
     "data": {
      "image/jpeg": "[encoded data removed]",
      "text/plain": [
       "<IPython.core.display.Image object>"
      ]
     },
     "metadata": {},
     "output_type": "display_data"
    },
    {
     "name": "stdout",
     "output_type": "stream",
     "text": [
      "\n"
     ]
    },
    {
     "data": {
      "image/jpeg": "[encoded data removed]",
      "text/plain": [
       "<IPython.core.display.Image object>"
      ]
     },
     "metadata": {},
     "output_type": "display_data"
    },
    {
     "name": "stdout",
     "output_type": "stream",
     "text": [
      "\n"
     ]
    }
   ],
   "source": [
    "import IPython.display as display\n",
    "import random \n",
    "\n",
    "for n in range(3):\n",
    "    image_path = TRAIN_DIR + random.choice(train_files)\n",
    "    display.display(display.Image(image_path))\n",
    "    print()"
   ]
  },
  {
   "cell_type": "markdown",
   "metadata": {
    "colab_type": "text",
    "id": "oAQiSKw-jsJE"
   },
   "source": [
    "## 2. Preprocess Data"
   ]
  },
  {
   "cell_type": "markdown",
   "metadata": {
    "colab_type": "text",
    "id": "LyKzv8u99pI0"
   },
   "source": [
    "### 2.1. Train Data into Dataframe"
   ]
  },
  {
   "cell_type": "code",
   "execution_count": 7,
   "metadata": {},
   "outputs": [],
   "source": [
    "#Extract train label\n",
    "train_labels = []\n",
    "for file in train_files: \n",
    "    label = file.split('.')[0]\n",
    "    label = {'cat': 0, 'dog' : 1}.get(label)\n",
    "    train_labels.append(label)\n",
    "\n",
    "#Add to dataframe\n",
    "train_df = pd.DataFrame({\n",
    "    'id' : train_files,\n",
    "    'label' : train_labels\n",
    "})"
   ]
  },
  {
   "cell_type": "code",
   "execution_count": 8,
   "metadata": {},
   "outputs": [
    {
     "data": {
      "text/html": [
       "<div>\n",
       "<style scoped>\n",
       "    .dataframe tbody tr th:only-of-type {\n",
       "        vertical-align: middle;\n",
       "    }\n",
       "\n",
       "    .dataframe tbody tr th {\n",
       "        vertical-align: top;\n",
       "    }\n",
       "\n",
       "    .dataframe thead th {\n",
       "        text-align: right;\n",
       "    }\n",
       "</style>\n",
       "<table border=\"1\" class=\"dataframe\">\n",
       "  <thead>\n",
       "    <tr style=\"text-align: right;\">\n",
       "      <th></th>\n",
       "      <th>id</th>\n",
       "      <th>label</th>\n",
       "    </tr>\n",
       "  </thead>\n",
       "  <tbody>\n",
       "    <tr>\n",
       "      <th>24269</th>\n",
       "      <td>dog.4039.jpg</td>\n",
       "      <td>1</td>\n",
       "    </tr>\n",
       "    <tr>\n",
       "      <th>9523</th>\n",
       "      <td>dog.683.jpg</td>\n",
       "      <td>1</td>\n",
       "    </tr>\n",
       "    <tr>\n",
       "      <th>18604</th>\n",
       "      <td>cat.4675.jpg</td>\n",
       "      <td>0</td>\n",
       "    </tr>\n",
       "    <tr>\n",
       "      <th>21048</th>\n",
       "      <td>cat.7274.jpg</td>\n",
       "      <td>0</td>\n",
       "    </tr>\n",
       "    <tr>\n",
       "      <th>14023</th>\n",
       "      <td>dog.1226.jpg</td>\n",
       "      <td>1</td>\n",
       "    </tr>\n",
       "  </tbody>\n",
       "</table>\n",
       "</div>"
      ],
      "text/plain": [
       "                 id  label\n",
       "24269  dog.4039.jpg      1\n",
       "9523    dog.683.jpg      1\n",
       "18604  cat.4675.jpg      0\n",
       "21048  cat.7274.jpg      0\n",
       "14023  dog.1226.jpg      1"
      ]
     },
     "execution_count": 8,
     "metadata": {},
     "output_type": "execute_result"
    }
   ],
   "source": [
    "train_df.sample(5)"
   ]
  },
  {
   "cell_type": "markdown",
   "metadata": {},
   "source": [
    "### 2.2. Split into train and validation dataset"
   ]
  },
  {
   "cell_type": "code",
   "execution_count": 10,
   "metadata": {},
   "outputs": [],
   "source": [
    "from sklearn.model_selection import train_test_split\n",
    "train_df, val_df = train_test_split(train_df, test_size = 0.1, random_state = 101)"
   ]
  },
  {
   "cell_type": "code",
   "execution_count": 11,
   "metadata": {},
   "outputs": [
    {
     "name": "stdout",
     "output_type": "stream",
     "text": [
      "Shape of train data:  (22500, 2)\n",
      "Shape of validation data:  (2500, 2)\n"
     ]
    }
   ],
   "source": [
    "print('Shape of train data: ', train_df.shape)\n",
    "print('Shape of validation data: ', val_df.shape)"
   ]
  },
  {
   "cell_type": "markdown",
   "metadata": {},
   "source": [
    "### 2.3. Data Augmentation\n",
    "Multiple augmentation steps will be done on train set.\n",
    "On validation test, we only normalize image data from 0-255 to 0-1."
   ]
  },
  {
   "cell_type": "code",
   "execution_count": 15,
   "metadata": {},
   "outputs": [
    {
     "name": "stdout",
     "output_type": "stream",
     "text": [
      "Found 22500 validated image filenames.\n",
      "Found 2500 validated image filenames.\n"
     ]
    }
   ],
   "source": [
    "BATCH_SIZE = 256\n",
    "\n",
    "IMAGE_WIDTH = 150\n",
    "IMAGE_HEIGHT = 150 \n",
    "\n",
    "#Augmentation setting\n",
    "train_datagen = ImageDataGenerator(rescale = 1./255.,\n",
    "                                   rotation_range = 20,\n",
    "                                   zoom_range = 0.15,\n",
    "                                   width_shift_range=0.2,\n",
    "                                   height_shift_range=0.2,\n",
    "                                   shear_range=0.15,\n",
    "                                   horizontal_flip=True,\n",
    "                                   fill_mode=\"nearest\")\n",
    "\n",
    "val_datagen = ImageDataGenerator(rescale = 1./255.)\n",
    "\n",
    "#Train and valid generators\n",
    "train_generator = train_datagen.flow_from_dataframe(\n",
    "        train_df,\n",
    "        TRAIN_DIR,\n",
    "        x_col = 'id',\n",
    "        y_col = 'label',\n",
    "        target_size = (IMAGE_WIDTH, IMAGE_HEIGHT),\n",
    "        class_mode = 'raw',\n",
    "        batch_size = BATCH_SIZE \n",
    ")\n",
    "\n",
    "val_generator = val_datagen.flow_from_dataframe(\n",
    "        val_df,\n",
    "        TRAIN_DIR,\n",
    "        x_col = 'id',\n",
    "        y_col = 'label',\n",
    "        target_size = (IMAGE_WIDTH, IMAGE_HEIGHT),\n",
    "        class_mode = 'raw',\n",
    "        batch_size = BATCH_SIZE \n",
    ")"
   ]
  },
  {
   "cell_type": "markdown",
   "metadata": {
    "colab_type": "text",
    "id": "YNeCJSK-juJ-"
   },
   "source": [
    "## 3. Modelling"
   ]
  },
  {
   "cell_type": "markdown",
   "metadata": {},
   "source": [
    "### 3.1. Build"
   ]
  },
  {
   "cell_type": "code",
   "execution_count": 25,
   "metadata": {},
   "outputs": [],
   "source": [
    "#Initiate hyperparameters\n",
    "LEARNING_RATE = 0.001\n",
    "DECAY = 0.0 \n",
    "EPOCHS = 20\n",
    "\n",
    "#Create model and optimizer\n",
    "def create_model():\n",
    "    model = tf.keras.models.Sequential([\n",
    "    # the images were resized by ImageDataGenerator 150x150 with 3 bytes color\n",
    "    tf.keras.layers.Conv2D(32, (3,3), activation='relu', input_shape=(IMAGE_WIDTH, IMAGE_HEIGHT, 3)),\n",
    "    tf.keras.layers.MaxPooling2D(2,2),\n",
    "    tf.keras.layers.Conv2D(64, (3,3), activation='relu'),\n",
    "    tf.keras.layers.MaxPooling2D(2,2), \n",
    "    tf.keras.layers.Conv2D(128, (3,3), activation='relu'), \n",
    "    tf.keras.layers.MaxPooling2D(2,2),\n",
    "    tf.keras.layers.Conv2D(128, (3,3), activation='relu'), \n",
    "    tf.keras.layers.MaxPooling2D(2,2),\n",
    "    tf.keras.layers.Dropout(0.5),\n",
    "    tf.keras.layers.Flatten(), \n",
    "    # 512 neuron hidden layer\n",
    "    tf.keras.layers.Dense(512, activation='relu'),\n",
    "    # since we have only 2 classes to predict we can use 1 neuron and sigmoid\n",
    "    tf.keras.layers.Dense(1, activation='sigmoid')  \n",
    "])\n",
    "    #Setting up Optimizer\n",
    "    model.compile(optimizer=tf.keras.optimizers.Adam(lr=0.001, beta_1=0.9, beta_2=0.999, epsilon=1e-08, decay=0.0),\n",
    "    loss='binary_crossentropy',\n",
    "    metrics = ['accuracy'])\n",
    "    \n",
    "    return model\n",
    "\n",
    "model = create_model()"
   ]
  },
  {
   "cell_type": "code",
   "execution_count": 26,
   "metadata": {},
   "outputs": [
    {
     "name": "stdout",
     "output_type": "stream",
     "text": [
      "Model: \"sequential_1\"\n",
      "_________________________________________________________________\n",
      "Layer (type)                 Output Shape              Param #   \n",
      "=================================================================\n",
      "conv2d_4 (Conv2D)            (None, 148, 148, 32)      896       \n",
      "_________________________________________________________________\n",
      "max_pooling2d_4 (MaxPooling2 (None, 74, 74, 32)        0         \n",
      "_________________________________________________________________\n",
      "conv2d_5 (Conv2D)            (None, 72, 72, 64)        18496     \n",
      "_________________________________________________________________\n",
      "max_pooling2d_5 (MaxPooling2 (None, 36, 36, 64)        0         \n",
      "_________________________________________________________________\n",
      "conv2d_6 (Conv2D)            (None, 34, 34, 128)       73856     \n",
      "_________________________________________________________________\n",
      "max_pooling2d_6 (MaxPooling2 (None, 17, 17, 128)       0         \n",
      "_________________________________________________________________\n",
      "conv2d_7 (Conv2D)            (None, 15, 15, 128)       147584    \n",
      "_________________________________________________________________\n",
      "max_pooling2d_7 (MaxPooling2 (None, 7, 7, 128)         0         \n",
      "_________________________________________________________________\n",
      "dropout_1 (Dropout)          (None, 7, 7, 128)         0         \n",
      "_________________________________________________________________\n",
      "flatten_1 (Flatten)          (None, 6272)              0         \n",
      "_________________________________________________________________\n",
      "dense_2 (Dense)              (None, 512)               3211776   \n",
      "_________________________________________________________________\n",
      "dense_3 (Dense)              (None, 1)                 513       \n",
      "=================================================================\n",
      "Total params: 3,453,121\n",
      "Trainable params: 3,453,121\n",
      "Non-trainable params: 0\n",
      "_________________________________________________________________\n"
     ]
    }
   ],
   "source": [
    "model.summary()"
   ]
  },
  {
   "cell_type": "code",
   "execution_count": 28,
   "metadata": {},
   "outputs": [],
   "source": [
    "#Setting up EarlyStopping\n",
    "es = tf.keras.callbacks.EarlyStopping(monitor='val_loss',\n",
    "                                      mode='min',\n",
    "                                      restore_best_weights=True, \n",
    "                                      verbose=1,\n",
    "                                      patience=5)\n",
    "#Setting up Checkpoint\n",
    "checkpoint_path = \"/home/jupyter/\"\n",
    "checkpoint_dir = os.path.dirname(checkpoint_path)\n",
    "\n",
    "# Create a callback that saves the model's weights\n",
    "# by default it saves the weights every epoch\n",
    "cp_callback = tf.keras.callbacks.ModelCheckpoint(filepath=checkpoint_path,\n",
    "                                                 save_weights_only=True,\n",
    "                                                 verbose=1)\n",
    "\n",
    "\n",
    "#Define step per epoch\n",
    "steps_per_epoch = round(TRAIN_SIZE*(1 - 0.1)/BATCH_SIZE)\n",
    "val_steps = round(TRAIN_SIZE*0.1/BATCH_SIZE)"
   ]
  },
  {
   "cell_type": "code",
   "execution_count": 29,
   "metadata": {},
   "outputs": [
    {
     "name": "stdout",
     "output_type": "stream",
     "text": [
      "Epoch 1/20\n",
      "87/88 [============================>.] - ETA: 1s - loss: 0.6769 - accuracy: 0.5734\n",
      "Epoch 00001: saving model to /home/jupyter/\n",
      "88/88 [==============================] - 165s 2s/step - loss: 0.6773 - accuracy: 0.5729 - val_loss: 0.6562 - val_accuracy: 0.6112\n",
      "Epoch 2/20\n",
      "87/88 [============================>.] - ETA: 1s - loss: 0.6267 - accuracy: 0.6484\n",
      "Epoch 00002: saving model to /home/jupyter/\n",
      "88/88 [==============================] - 159s 2s/step - loss: 0.6265 - accuracy: 0.6485 - val_loss: 0.5565 - val_accuracy: 0.7324\n",
      "Epoch 3/20\n",
      "87/88 [============================>.] - ETA: 1s - loss: 0.5702 - accuracy: 0.7013\n",
      "Epoch 00003: saving model to /home/jupyter/\n",
      "88/88 [==============================] - 159s 2s/step - loss: 0.5691 - accuracy: 0.7021 - val_loss: 0.4968 - val_accuracy: 0.7536\n",
      "Epoch 4/20\n",
      "87/88 [============================>.] - ETA: 1s - loss: 0.5312 - accuracy: 0.7317\n",
      "Epoch 00004: saving model to /home/jupyter/\n",
      "88/88 [==============================] - 159s 2s/step - loss: 0.5312 - accuracy: 0.7320 - val_loss: 0.4596 - val_accuracy: 0.7892\n",
      "Epoch 5/20\n",
      "87/88 [============================>.] - ETA: 1s - loss: 0.4975 - accuracy: 0.7556\n",
      "Epoch 00005: saving model to /home/jupyter/\n",
      "88/88 [==============================] - 160s 2s/step - loss: 0.4973 - accuracy: 0.7560 - val_loss: 0.4160 - val_accuracy: 0.8052\n",
      "Epoch 6/20\n",
      "87/88 [============================>.] - ETA: 1s - loss: 0.4715 - accuracy: 0.7755\n",
      "Epoch 00006: saving model to /home/jupyter/\n",
      "88/88 [==============================] - 160s 2s/step - loss: 0.4709 - accuracy: 0.7758 - val_loss: 0.3984 - val_accuracy: 0.8216\n",
      "Epoch 7/20\n",
      "87/88 [============================>.] - ETA: 1s - loss: 0.4495 - accuracy: 0.7881\n",
      "Epoch 00007: saving model to /home/jupyter/\n",
      "88/88 [==============================] - 159s 2s/step - loss: 0.4491 - accuracy: 0.7885 - val_loss: 0.3842 - val_accuracy: 0.8292\n",
      "Epoch 8/20\n",
      "87/88 [============================>.] - ETA: 1s - loss: 0.4311 - accuracy: 0.8010\n",
      "Epoch 00008: saving model to /home/jupyter/\n",
      "88/88 [==============================] - 160s 2s/step - loss: 0.4314 - accuracy: 0.8010 - val_loss: 0.3637 - val_accuracy: 0.8364\n",
      "Epoch 9/20\n",
      "87/88 [============================>.] - ETA: 1s - loss: 0.3902 - accuracy: 0.8246\n",
      "Epoch 00009: saving model to /home/jupyter/\n",
      "88/88 [==============================] - 160s 2s/step - loss: 0.3901 - accuracy: 0.8245 - val_loss: 0.3275 - val_accuracy: 0.8620\n",
      "Epoch 10/20\n",
      "87/88 [============================>.] - ETA: 1s - loss: 0.3679 - accuracy: 0.8378\n",
      "Epoch 00010: saving model to /home/jupyter/\n",
      "88/88 [==============================] - 159s 2s/step - loss: 0.3675 - accuracy: 0.8381 - val_loss: 0.2810 - val_accuracy: 0.8852\n",
      "Epoch 11/20\n",
      "87/88 [============================>.] - ETA: 1s - loss: 0.3520 - accuracy: 0.8436\n",
      "Epoch 00011: saving model to /home/jupyter/\n",
      "88/88 [==============================] - 160s 2s/step - loss: 0.3515 - accuracy: 0.8438 - val_loss: 0.2777 - val_accuracy: 0.8836\n",
      "Epoch 12/20\n",
      "87/88 [============================>.] - ETA: 1s - loss: 0.3310 - accuracy: 0.8524\n",
      "Epoch 00012: saving model to /home/jupyter/\n",
      "88/88 [==============================] - 159s 2s/step - loss: 0.3311 - accuracy: 0.8524 - val_loss: 0.2554 - val_accuracy: 0.8944\n",
      "Epoch 13/20\n",
      "87/88 [============================>.] - ETA: 1s - loss: 0.3111 - accuracy: 0.8654\n",
      "Epoch 00013: saving model to /home/jupyter/\n",
      "88/88 [==============================] - 160s 2s/step - loss: 0.3113 - accuracy: 0.8652 - val_loss: 0.2840 - val_accuracy: 0.8740\n",
      "Epoch 14/20\n",
      "87/88 [============================>.] - ETA: 1s - loss: 0.2941 - accuracy: 0.8722\n",
      "Epoch 00014: saving model to /home/jupyter/\n",
      "88/88 [==============================] - 159s 2s/step - loss: 0.2943 - accuracy: 0.8720 - val_loss: 0.2488 - val_accuracy: 0.8948\n",
      "Epoch 15/20\n",
      "87/88 [============================>.] - ETA: 1s - loss: 0.2937 - accuracy: 0.8738\n",
      "Epoch 00015: saving model to /home/jupyter/\n",
      "88/88 [==============================] - 160s 2s/step - loss: 0.2934 - accuracy: 0.8740 - val_loss: 0.2154 - val_accuracy: 0.9152\n",
      "Epoch 16/20\n",
      "87/88 [============================>.] - ETA: 1s - loss: 0.2701 - accuracy: 0.8840\n",
      "Epoch 00016: saving model to /home/jupyter/\n",
      "88/88 [==============================] - 160s 2s/step - loss: 0.2698 - accuracy: 0.8843 - val_loss: 0.2203 - val_accuracy: 0.9144\n",
      "Epoch 17/20\n",
      "87/88 [============================>.] - ETA: 1s - loss: 0.2758 - accuracy: 0.8815\n",
      "Epoch 00017: saving model to /home/jupyter/\n",
      "88/88 [==============================] - 160s 2s/step - loss: 0.2754 - accuracy: 0.8817 - val_loss: 0.1876 - val_accuracy: 0.9264\n",
      "Epoch 18/20\n",
      "87/88 [============================>.] - ETA: 1s - loss: 0.2529 - accuracy: 0.8946\n",
      "Epoch 00018: saving model to /home/jupyter/\n",
      "88/88 [==============================] - 160s 2s/step - loss: 0.2526 - accuracy: 0.8946 - val_loss: 0.1868 - val_accuracy: 0.9232\n",
      "Epoch 19/20\n",
      "87/88 [============================>.] - ETA: 1s - loss: 0.2407 - accuracy: 0.8979\n",
      "Epoch 00019: saving model to /home/jupyter/\n",
      "88/88 [==============================] - 161s 2s/step - loss: 0.2404 - accuracy: 0.8981 - val_loss: 0.2017 - val_accuracy: 0.9196\n",
      "Epoch 20/20\n",
      "87/88 [============================>.] - ETA: 1s - loss: 0.2368 - accuracy: 0.9009\n",
      "Epoch 00020: saving model to /home/jupyter/\n",
      "88/88 [==============================] - 161s 2s/step - loss: 0.2371 - accuracy: 0.9009 - val_loss: 0.1721 - val_accuracy: 0.9308\n",
      "CPU times: user 56min 11s, sys: 3min 45s, total: 59min 56s\n",
      "Wall time: 53min 22s\n"
     ]
    }
   ],
   "source": [
    "%%time\n",
    "#Load checkpoint\n",
    "# model.load_weights(checkpoint_path)\n",
    "\n",
    "#Fit data into model\n",
    "history = model.fit_generator(train_generator,\n",
    "                              validation_data = val_generator,\n",
    "                              steps_per_epoch = steps_per_epoch,\n",
    "                              validation_steps = val_steps,\n",
    "                              epochs=EPOCHS,\n",
    "                              callbacks = [es, cp_callback],\n",
    "                              verbose = 1\n",
    "                             )"
   ]
  },
  {
   "cell_type": "markdown",
   "metadata": {
    "colab_type": "text",
    "id": "8ks2S0WkjxN_"
   },
   "source": [
    "### 3.2. Evaluate"
   ]
  },
  {
   "cell_type": "code",
   "execution_count": 30,
   "metadata": {
    "colab": {},
    "colab_type": "code",
    "id": "ElHj15E4j1xN"
   },
   "outputs": [
    {
     "data": {
      "image/png": "[encoded data removed]",
      "text/plain": [
       "<Figure size 720x432 with 1 Axes>"
      ]
     },
     "metadata": {
      "needs_background": "light"
     },
     "output_type": "display_data"
    },
    {
     "data": {
      "image/png": "[encoded data removed]",
      "text/plain": [
       "<Figure size 720x432 with 1 Axes>"
      ]
     },
     "metadata": {
      "needs_background": "light"
     },
     "output_type": "display_data"
    }
   ],
   "source": [
    "def plot_history(history, key='loss'):\n",
    "    plt.figure(figsize=(10,6))\n",
    "\n",
    "    val = plt.plot(history.epoch, history.history['val_'+key],\n",
    "                    '--', label=key.title() +' Val')\n",
    "    plt.plot(history.epoch, history.history[key], color=val[0].get_color(),\n",
    "                label=key.title() + ' Train')\n",
    "\n",
    "    plt.xlabel('Epochs')\n",
    "    plt.ylabel(key.replace('_',' ').title())\n",
    "    plt.legend()\n",
    "\n",
    "    plt.xlim([0,max(history.epoch)])\n",
    "\n",
    "plot_history(history, key='accuracy')\n",
    "plot_history(history, key='loss')"
   ]
  },
  {
   "cell_type": "markdown",
   "metadata": {},
   "source": [
    "### 3.3. Export"
   ]
  },
  {
   "cell_type": "code",
   "execution_count": 31,
   "metadata": {
    "colab": {},
    "colab_type": "code",
    "id": "3ihmfSR0j_WU"
   },
   "outputs": [],
   "source": [
    "model.save('nhan_catmodel_CNNAdam.h5')"
   ]
  },
  {
   "cell_type": "markdown",
   "metadata": {},
   "source": [
    "## 4. Alternative Model"
   ]
  },
  {
   "cell_type": "markdown",
   "metadata": {},
   "source": [
    "### 4.1. Build"
   ]
  },
  {
   "cell_type": "code",
   "execution_count": 19,
   "metadata": {},
   "outputs": [
    {
     "name": "stdout",
     "output_type": "stream",
     "text": [
      "Model: \"sequential_1\"\n",
      "_________________________________________________________________\n",
      "Layer (type)                 Output Shape              Param #   \n",
      "=================================================================\n",
      "mobilenetv2_1.00_224 (Model) (None, 5, 5, 1280)        2257984   \n",
      "_________________________________________________________________\n",
      "global_average_pooling2d_1 ( (None, 1280)              0         \n",
      "_________________________________________________________________\n",
      "dense_1 (Dense)              (None, 2)                 2562      \n",
      "=================================================================\n",
      "Total params: 2,260,546\n",
      "Trainable params: 2,562\n",
      "Non-trainable params: 2,257,984\n",
      "_________________________________________________________________\n"
     ]
    }
   ],
   "source": [
    "#Initiate hyperparameters\n",
    "LEARNING_RATE = 0.001\n",
    "DECAY = 0.0 \n",
    "EPOCHS = 20\n",
    "\n",
    "from keras.layers import Dropout, Flatten, Dense,GlobalAveragePooling2D\n",
    "\n",
    "\n",
    "#Create model and optimizer\n",
    "def create_mobile_model():\n",
    "    # build the MobileNetV2 network\n",
    "    mobile_net = tf.keras.applications.MobileNetV2(input_shape=(IMAGE_WIDTH, IMAGE_HEIGHT, 3), include_top=False)\n",
    "    mobile_net.trainable=False\n",
    "    \n",
    "    mobile_model = tf.keras.Sequential([mobile_net,\n",
    "                                        tf.keras.layers.GlobalAveragePooling2D(),\n",
    "                                        tf.keras.layers.Dense(2, activation = 'sigmoid')])\n",
    "    \n",
    "    #Setting up Optimizer\n",
    "    mobile_model.compile(optimizer=tf.keras.optimizers.Adam(lr=LEARNING_RATE, beta_1=0.9, beta_2=0.999, epsilon=1e-08, decay=DECAY),\n",
    "                         loss='sparse_categorical_crossentropy',\n",
    "                         metrics = ['accuracy'])\n",
    "\n",
    "    return mobile_model\n",
    "\n",
    "mobile_model = create_mobile_model()\n",
    "\n",
    "#Review model architect\n",
    "mobile_model.summary()"
   ]
  },
  {
   "cell_type": "code",
   "execution_count": 20,
   "metadata": {},
   "outputs": [],
   "source": [
    "#Setting up EarlyStopping\n",
    "es = tf.keras.callbacks.EarlyStopping(monitor='val_loss',\n",
    "                                      mode='min',\n",
    "                                      restore_best_weights=True, \n",
    "                                      verbose=1,\n",
    "                                      patience=5)\n",
    "#Setting up Checkpoint\n",
    "checkpoint_path = \"/home/jupyter/CheckPointMobile\"\n",
    "checkpoint_dir = os.path.dirname(checkpoint_path)\n",
    "\n",
    "# Create a callback that saves the model's weights\n",
    "# by default it saves the weights every epoch\n",
    "cp_callback = tf.keras.callbacks.ModelCheckpoint(filepath=checkpoint_path,\n",
    "                                                 save_weights_only=True,\n",
    "                                                 verbose=1)\n",
    "\n",
    "\n",
    "#Define step per epoch\n",
    "steps_per_epoch = round(TRAIN_SIZE*(1 - 0.1)/BATCH_SIZE)\n",
    "val_steps = round(TRAIN_SIZE*0.1/BATCH_SIZE)"
   ]
  },
  {
   "cell_type": "code",
   "execution_count": 21,
   "metadata": {},
   "outputs": [
    {
     "name": "stdout",
     "output_type": "stream",
     "text": [
      "Epoch 1/20\n",
      "87/88 [============================>.] - ETA: 3s - loss: 0.3238 - accuracy: 0.8483\n",
      "Epoch 00001: saving model to /home/jupyter/CheckPointMobile\n",
      "88/88 [==============================] - 367s 4s/step - loss: 0.3225 - accuracy: 0.8488 - val_loss: 0.1919 - val_accuracy: 0.9372\n",
      "Epoch 2/20\n",
      "87/88 [============================>.] - ETA: 1s - loss: 0.2112 - accuracy: 0.9097\n",
      "Epoch 00002: saving model to /home/jupyter/CheckPointMobile\n",
      "88/88 [==============================] - 144s 2s/step - loss: 0.2109 - accuracy: 0.9097 - val_loss: 0.1985 - val_accuracy: 0.9388\n",
      "Epoch 3/20\n",
      "87/88 [============================>.] - ETA: 1s - loss: 0.1970 - accuracy: 0.9164\n",
      "Epoch 00003: saving model to /home/jupyter/CheckPointMobile\n",
      "88/88 [==============================] - 154s 2s/step - loss: 0.1973 - accuracy: 0.9164 - val_loss: 0.2065 - val_accuracy: 0.9396\n",
      "Epoch 4/20\n",
      "87/88 [============================>.] - ETA: 1s - loss: 0.1869 - accuracy: 0.9213\n",
      "Epoch 00004: saving model to /home/jupyter/CheckPointMobile\n",
      "88/88 [==============================] - 155s 2s/step - loss: 0.1864 - accuracy: 0.9213 - val_loss: 0.2121 - val_accuracy: 0.9444\n",
      "Epoch 5/20\n",
      "87/88 [============================>.] - ETA: 1s - loss: 0.1827 - accuracy: 0.9239\n",
      "Epoch 00005: saving model to /home/jupyter/CheckPointMobile\n",
      "88/88 [==============================] - 154s 2s/step - loss: 0.1824 - accuracy: 0.9240 - val_loss: 0.2153 - val_accuracy: 0.9416\n",
      "Epoch 6/20\n",
      "87/88 [============================>.] - ETA: 1s - loss: 0.1822 - accuracy: 0.9233Restoring model weights from the end of the best epoch.\n",
      "\n",
      "Epoch 00006: saving model to /home/jupyter/CheckPointMobile\n",
      "88/88 [==============================] - 154s 2s/step - loss: 0.1825 - accuracy: 0.9231 - val_loss: 0.2226 - val_accuracy: 0.9412\n",
      "Epoch 00006: early stopping\n",
      "CPU times: user 16min 30s, sys: 1min 4s, total: 17min 35s\n",
      "Wall time: 18min 48s\n"
     ]
    }
   ],
   "source": [
    "%%time\n",
    "#Load checkpoint\n",
    "# model.load_weights(checkpoint_path)\n",
    "\n",
    "#Fit data into model\n",
    "mobile_history = mobile_model.fit_generator(train_generator,\n",
    "                                            validation_data = val_generator,\n",
    "                                            steps_per_epoch = steps_per_epoch,\n",
    "                                            validation_steps = val_steps,\n",
    "                                            epochs=EPOCHS,\n",
    "                                            callbacks = [es, cp_callback],\n",
    "                                            verbose = 1\n",
    "                                            )"
   ]
  },
  {
   "cell_type": "markdown",
   "metadata": {},
   "source": [
    "### 4.2. Evaluate"
   ]
  },
  {
   "cell_type": "code",
   "execution_count": 23,
   "metadata": {},
   "outputs": [
    {
     "data": {
      "image/png": "[encoded data removed]",
      "text/plain": [
       "<Figure size 720x432 with 1 Axes>"
      ]
     },
     "metadata": {
      "needs_background": "light"
     },
     "output_type": "display_data"
    },
    {
     "data": {
      "image/png": "[encoded data removed]",
      "text/plain": [
       "<Figure size 720x432 with 1 Axes>"
      ]
     },
     "metadata": {
      "needs_background": "light"
     },
     "output_type": "display_data"
    }
   ],
   "source": [
    "def plot_history(history, key='loss'):\n",
    "    plt.figure(figsize=(10,6))\n",
    "\n",
    "    val = plt.plot(history.epoch, history.history['val_'+key],\n",
    "                    '--', label=key.title() +' Val')\n",
    "    plt.plot(history.epoch, history.history[key], color=val[0].get_color(),\n",
    "                label=key.title() + ' Train')\n",
    "\n",
    "    plt.xlabel('Epochs')\n",
    "    plt.ylabel(key.replace('_',' ').title())\n",
    "    plt.legend()\n",
    "\n",
    "    plt.xlim([0,max(history.epoch)])\n",
    "\n",
    "plot_history(mobile_history, key='accuracy')\n",
    "plot_history(mobile_history, key='loss')"
   ]
  },
  {
   "cell_type": "markdown",
   "metadata": {},
   "source": [
    "### 4.3. Export "
   ]
  },
  {
   "cell_type": "code",
   "execution_count": 25,
   "metadata": {},
   "outputs": [],
   "source": [
    "mobile_model.save('nhan_catmodel_MobileAdam.h5')"
   ]
  },
  {
   "cell_type": "markdown",
   "metadata": {
    "colab_type": "text",
    "id": "K_7r_lO7j6Qc"
   },
   "source": [
    "## 5. Proceed on Test Set"
   ]
  },
  {
   "cell_type": "markdown",
   "metadata": {
    "colab": {},
    "colab_type": "code",
    "id": "bgMYvH60j7Hw"
   },
   "source": [
    "### 5.1. Predict\n",
    "- Add test set into dataframe\n",
    "- Preprocess test-set into the shape 150x150 and normalize its pixel values.\n",
    "- Load our best model (MobileNetv2) and predict test set. "
   ]
  },
  {
   "cell_type": "code",
   "execution_count": 28,
   "metadata": {},
   "outputs": [
    {
     "data": {
      "text/html": [
       "<div>\n",
       "<style scoped>\n",
       "    .dataframe tbody tr th:only-of-type {\n",
       "        vertical-align: middle;\n",
       "    }\n",
       "\n",
       "    .dataframe tbody tr th {\n",
       "        vertical-align: top;\n",
       "    }\n",
       "\n",
       "    .dataframe thead th {\n",
       "        text-align: right;\n",
       "    }\n",
       "</style>\n",
       "<table border=\"1\" class=\"dataframe\">\n",
       "  <thead>\n",
       "    <tr style=\"text-align: right;\">\n",
       "      <th></th>\n",
       "      <th>id</th>\n",
       "    </tr>\n",
       "  </thead>\n",
       "  <tbody>\n",
       "    <tr>\n",
       "      <th>3998</th>\n",
       "      <td>5999.jpg</td>\n",
       "    </tr>\n",
       "    <tr>\n",
       "      <th>5425</th>\n",
       "      <td>1999.jpg</td>\n",
       "    </tr>\n",
       "    <tr>\n",
       "      <th>9336</th>\n",
       "      <td>296.jpg</td>\n",
       "    </tr>\n",
       "    <tr>\n",
       "      <th>37</th>\n",
       "      <td>6195.jpg</td>\n",
       "    </tr>\n",
       "    <tr>\n",
       "      <th>9910</th>\n",
       "      <td>2931.jpg</td>\n",
       "    </tr>\n",
       "  </tbody>\n",
       "</table>\n",
       "</div>"
      ],
      "text/plain": [
       "            id\n",
       "3998  5999.jpg\n",
       "5425  1999.jpg\n",
       "9336   296.jpg\n",
       "37    6195.jpg\n",
       "9910  2931.jpg"
      ]
     },
     "execution_count": 28,
     "metadata": {},
     "output_type": "execute_result"
    }
   ],
   "source": [
    "# Test data into dataframe\n",
    "test_df = pd.DataFrame({'id' : test_files})\n",
    "test_df.sample(5)"
   ]
  },
  {
   "cell_type": "code",
   "execution_count": 44,
   "metadata": {},
   "outputs": [],
   "source": [
    "def test_predict(test_data):\n",
    "    #Preprocess test-set\n",
    "    test_datagen = ImageDataGenerator(rescale = 1./255.)\n",
    "    test_generator = val_datagen.flow_from_dataframe(test_data,\n",
    "                                                     TEST_DIR,\n",
    "                                                     x_col = 'id',\n",
    "                                                     y_col = None,\n",
    "                                                     target_size = (IMAGE_WIDTH, IMAGE_HEIGHT),\n",
    "                                                     class_mode = None,\n",
    "                                                     batch_size = BATCH_SIZE \n",
    "                                                     )\n",
    "    #Load model and predict\n",
    "    test_steps = round(TEST_SIZE/BATCH_SIZE)\n",
    "    test_predictions = mobile_model.predict_generator(test_generator,\n",
    "                                                      steps=test_steps,\n",
    "                                                      verbose=1)\n",
    "    \n",
    "    predicted_class = np.argmax(test_predictions,axis=1)\n",
    "    \n",
    "    return predicted_class "
   ]
  },
  {
   "cell_type": "code",
   "execution_count": 45,
   "metadata": {},
   "outputs": [
    {
     "name": "stdout",
     "output_type": "stream",
     "text": [
      "Found 12500 validated image filenames.\n",
      "49/49 [==============================] - 32s 653ms/step\n"
     ]
    },
    {
     "data": {
      "text/plain": [
       "array([1, 0, 0, ..., 1, 0, 0])"
      ]
     },
     "execution_count": 45,
     "metadata": {},
     "output_type": "execute_result"
    }
   ],
   "source": [
    "predict = test_predict(test_df)\n",
    "predict"
   ]
  },
  {
   "cell_type": "markdown",
   "metadata": {},
   "source": [
    "### 5.2. Submission:\n",
    "Add predictions into test_df, correspond with Kaggle submission sample. "
   ]
  },
  {
   "cell_type": "code",
   "execution_count": 65,
   "metadata": {},
   "outputs": [],
   "source": [
    "# Adding 'predict' column\n",
    "submission = test_df.copy()\n",
    "submission['label'] = predict"
   ]
  },
  {
   "cell_type": "code",
   "execution_count": 66,
   "metadata": {},
   "outputs": [],
   "source": [
    "# Create 'id' column\n",
    "submission['id'] = test_df['id'].str.split('.').str[0]\n",
    "submission['id'] = submission['id'].astype('int')"
   ]
  },
  {
   "cell_type": "code",
   "execution_count": 76,
   "metadata": {},
   "outputs": [],
   "source": [
    "# Sort id column\n",
    "submission = submission.sort_values(by = ['id'], ascending = True)"
   ]
  },
  {
   "cell_type": "code",
   "execution_count": 74,
   "metadata": {},
   "outputs": [
    {
     "data": {
      "text/plain": [
       "<matplotlib.axes._subplots.AxesSubplot at 0x7f49a43a47b8>"
      ]
     },
     "execution_count": 74,
     "metadata": {},
     "output_type": "execute_result"
    },
    {
     "data": {
      "image/png": "[encoded data removed]",
      "text/plain": [
       "<Figure size 432x288 with 1 Axes>"
      ]
     },
     "metadata": {
      "needs_background": "light"
     },
     "output_type": "display_data"
    }
   ],
   "source": [
    "submission.label.value_counts().plot.bar()"
   ]
  },
  {
   "cell_type": "code",
   "execution_count": 77,
   "metadata": {},
   "outputs": [],
   "source": [
    "# Save submission file\n",
    "submission.to_csv('predict_catvsdog.csv', index = False)"
   ]
  },
  {
   "cell_type": "markdown",
   "metadata": {
    "colab_type": "text",
    "id": "_sdHIL9_kAHx"
   },
   "source": [
    "## 6. Summary\n",
    "\n",
    "The challenge is to build a Deep Neural Networks to distinguish Cat and Dog image. In this project, we offer two solution models (CNN and MobileNetv2) with data augmentation preprocessing before fitting into the model. On each model, we experiment different optimizers and compare the results. \n",
    "\n",
    "With hyperparameter at:\n",
    "```\n",
    "LEARNING_RATE = 0.001\n",
    "DECAY = 0.0 \n",
    "BATCH_SIZE = 256\n",
    "EPOCHS = 20\n",
    "```\n",
    "\n",
    "- CNN model with SGD optimizer returns train accuracy -- 0.61 and validation accuracy -- 0.59. \n",
    "- CNN model with RMSprop optimizer returns train accuracy -- 0.88 and validation accuracy -- 0.91. \n",
    "- CNN model with Adam optimizer returns train accuracy -- 0.90 and validation accuracy -- 0.93.\n",
    "- MobileNetv2 model with Adam optimizer returns train accuracy -- 0.9231 and validation accuracy -- 0.9412. (Early-stopped at 6th epoch)\n",
    "\n",
    "Our model reaches its best score at **0.93** on validation set with **MobileNetv2** and **Adam optimizer**. "
   ]
  },
  {
   "cell_type": "code",
   "execution_count": null,
   "metadata": {},
   "outputs": [],
   "source": []
  }
 ],
 "metadata": {
  "colab": {
   "name": "w6_catmodel_nhan",
   "provenance": []
  },
  "kernelspec": {
   "display_name": "Python 3",
   "language": "python",
   "name": "python3"
  },
  "language_info": {
   "codemirror_mode": {
    "name": "ipython",
    "version": 3
   },
   "file_extension": ".py",
   "mimetype": "text/x-python",
   "name": "python",
   "nbconvert_exporter": "python",
   "pygments_lexer": "ipython3",
   "version": "3.5.3"
  }
 },
 "nbformat": 4,
 "nbformat_minor": 4
}